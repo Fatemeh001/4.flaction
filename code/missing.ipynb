{
 "cells": [
  {
   "cell_type": "code",
   "execution_count": null,
   "metadata": {},
   "outputs": [],
   "source": [
    "import pandas as pd\n",
    "\n",
    "# Load the dataset\n",
    "file_path = 'Inflation-data.xlsx'\n",
    "sheet_data = pd.read_excel(file_path, sheet_name='Sheet1')\n",
    "\n",
    "# Step 1: Remove unnecessary columns\n",
    "cleaned_data = sheet_data.drop(columns=[\"Data source\", \"Note\", \"Note.1\"], errors=\"ignore\")\n",
    "\n",
    "# Step 2: Remove rows with 30% or less valid data\n",
    "row_threshold = int(0.3 * cleaned_data.shape[1])  # 30% of the total columns\n",
    "cleaned_data = cleaned_data[cleaned_data.notnull().sum(axis=1) > row_threshold]\n",
    "\n",
    "# Step 3: Remove columns with 30% or less valid data\n",
    "col_threshold = int(0.3 * cleaned_data.shape[0])  # 30% of the total rows\n",
    "cleaned_data = cleaned_data.loc[:, cleaned_data.notnull().sum(axis=0) > col_threshold]\n",
    "\n",
    "# Step 4: Ensure year-related data is numeric\n",
    "year_columns = [col for col in cleaned_data.columns if str(col).isdigit()]\n",
    "cleaned_data[year_columns] = cleaned_data[year_columns].apply(pd.to_numeric, errors='coerce')\n",
    "\n",
    "# Step 5: Fill missing values with advanced methods\n",
    "for col in year_columns:\n",
    "    cleaned_data[col] = cleaned_data[col].interpolate(method='pchip', limit_direction='both')\n",
    "    cleaned_data[col] = cleaned_data[col].clip(lower=0)  # Ensure no negative values\n",
    "\n",
    "# Save the cleaned data to a new Excel file\n",
    "output_file_path = 'Cleaned_Dataset.xlsx'\n",
    "cleaned_data.to_excel(output_file_path, index=False)\n"
   ]
  }
 ],
 "metadata": {
  "kernelspec": {
   "display_name": "base",
   "language": "python",
   "name": "python3"
  },
  "language_info": {
   "codemirror_mode": {
    "name": "ipython",
    "version": 3
   },
   "file_extension": ".py",
   "mimetype": "text/x-python",
   "name": "python",
   "nbconvert_exporter": "python",
   "pygments_lexer": "ipython3",
   "version": "3.12.4"
  }
 },
 "nbformat": 4,
 "nbformat_minor": 2
}
